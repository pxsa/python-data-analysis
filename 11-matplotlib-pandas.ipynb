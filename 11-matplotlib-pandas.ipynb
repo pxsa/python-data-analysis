{
 "cells": [
  {
   "cell_type": "code",
   "execution_count": 1,
   "id": "57bab610",
   "metadata": {},
   "outputs": [],
   "source": [
    "import pandas as pd\n",
    "import matplotlib.pyplot as plt"
   ]
  },
  {
   "cell_type": "code",
   "execution_count": 2,
   "id": "cf28a410",
   "metadata": {},
   "outputs": [],
   "source": [
    "ufo = pd.read_csv('data/nuforc_reports.csv')"
   ]
  },
  {
   "cell_type": "code",
   "execution_count": 4,
   "id": "24717325",
   "metadata": {},
   "outputs": [
    {
     "data": {
      "text/html": [
       "<div>\n",
       "<style scoped>\n",
       "    .dataframe tbody tr th:only-of-type {\n",
       "        vertical-align: middle;\n",
       "    }\n",
       "\n",
       "    .dataframe tbody tr th {\n",
       "        vertical-align: top;\n",
       "    }\n",
       "\n",
       "    .dataframe thead th {\n",
       "        text-align: right;\n",
       "    }\n",
       "</style>\n",
       "<table border=\"1\" class=\"dataframe\">\n",
       "  <thead>\n",
       "    <tr style=\"text-align: right;\">\n",
       "      <th></th>\n",
       "      <th>summary</th>\n",
       "      <th>city</th>\n",
       "      <th>state</th>\n",
       "      <th>date_time</th>\n",
       "      <th>shape</th>\n",
       "      <th>duration</th>\n",
       "      <th>stats</th>\n",
       "      <th>report_link</th>\n",
       "      <th>text</th>\n",
       "      <th>posted</th>\n",
       "      <th>city_latitude</th>\n",
       "      <th>city_longitude</th>\n",
       "    </tr>\n",
       "  </thead>\n",
       "  <tbody>\n",
       "    <tr>\n",
       "      <th>0</th>\n",
       "      <td>My wife was driving southeast on a fairly popu...</td>\n",
       "      <td>Chester</td>\n",
       "      <td>VA</td>\n",
       "      <td>2019-12-12T18:43:00</td>\n",
       "      <td>light</td>\n",
       "      <td>5 seconds</td>\n",
       "      <td>Occurred : 12/12/2019 18:43  (Entered as : 12/...</td>\n",
       "      <td>http://www.nuforc.org/webreports/151/S151739.html</td>\n",
       "      <td>My wife was driving southeast on a fairly popu...</td>\n",
       "      <td>2019-12-22T00:00:00</td>\n",
       "      <td>37.343152</td>\n",
       "      <td>-77.408582</td>\n",
       "    </tr>\n",
       "    <tr>\n",
       "      <th>1</th>\n",
       "      <td>I think that I may caught a UFO on the NBC Nig...</td>\n",
       "      <td>Rocky Hill</td>\n",
       "      <td>CT</td>\n",
       "      <td>2019-03-22T18:30:00</td>\n",
       "      <td>circle</td>\n",
       "      <td>3-5 seconds</td>\n",
       "      <td>Occurred : 3/22/2019 18:30  (Entered as : 03/2...</td>\n",
       "      <td>http://www.nuforc.org/webreports/145/S145297.html</td>\n",
       "      <td>I think that I may caught a UFO on the NBC Nig...</td>\n",
       "      <td>2019-03-29T00:00:00</td>\n",
       "      <td>41.664800</td>\n",
       "      <td>-72.639300</td>\n",
       "    </tr>\n",
       "  </tbody>\n",
       "</table>\n",
       "</div>"
      ],
      "text/plain": [
       "                                             summary        city state  \\\n",
       "0  My wife was driving southeast on a fairly popu...     Chester    VA   \n",
       "1  I think that I may caught a UFO on the NBC Nig...  Rocky Hill    CT   \n",
       "\n",
       "             date_time   shape     duration  \\\n",
       "0  2019-12-12T18:43:00   light    5 seconds   \n",
       "1  2019-03-22T18:30:00  circle  3-5 seconds   \n",
       "\n",
       "                                               stats  \\\n",
       "0  Occurred : 12/12/2019 18:43  (Entered as : 12/...   \n",
       "1  Occurred : 3/22/2019 18:30  (Entered as : 03/2...   \n",
       "\n",
       "                                         report_link  \\\n",
       "0  http://www.nuforc.org/webreports/151/S151739.html   \n",
       "1  http://www.nuforc.org/webreports/145/S145297.html   \n",
       "\n",
       "                                                text               posted  \\\n",
       "0  My wife was driving southeast on a fairly popu...  2019-12-22T00:00:00   \n",
       "1  I think that I may caught a UFO on the NBC Nig...  2019-03-29T00:00:00   \n",
       "\n",
       "   city_latitude  city_longitude  \n",
       "0      37.343152      -77.408582  \n",
       "1      41.664800      -72.639300  "
      ]
     },
     "execution_count": 4,
     "metadata": {},
     "output_type": "execute_result"
    }
   ],
   "source": [
    "ufo.head(2)"
   ]
  },
  {
   "cell_type": "code",
   "execution_count": 5,
   "id": "98bd30e9",
   "metadata": {},
   "outputs": [
    {
     "name": "stdout",
     "output_type": "stream",
     "text": [
      "<class 'pandas.core.frame.DataFrame'>\n",
      "RangeIndex: 88125 entries, 0 to 88124\n",
      "Data columns (total 12 columns):\n",
      " #   Column          Non-Null Count  Dtype  \n",
      "---  ------          --------------  -----  \n",
      " 0   summary         88095 non-null  object \n",
      " 1   city            87888 non-null  object \n",
      " 2   state           82890 non-null  object \n",
      " 3   date_time       86938 non-null  object \n",
      " 4   shape           85627 non-null  object \n",
      " 5   duration        84951 non-null  object \n",
      " 6   stats           88088 non-null  object \n",
      " 7   report_link     88125 non-null  object \n",
      " 8   text            88070 non-null  object \n",
      " 9   posted          86938 non-null  object \n",
      " 10  city_latitude   72013 non-null  float64\n",
      " 11  city_longitude  72013 non-null  float64\n",
      "dtypes: float64(2), object(10)\n",
      "memory usage: 8.1+ MB\n"
     ]
    }
   ],
   "source": [
    "ufo.info()"
   ]
  },
  {
   "cell_type": "code",
   "execution_count": 14,
   "id": "4a1ee1c3",
   "metadata": {},
   "outputs": [],
   "source": [
    "ufo['date_time'] = pd.to_datetime(ufo['date_time'])"
   ]
  },
  {
   "cell_type": "code",
   "execution_count": 15,
   "id": "9fcd0d47",
   "metadata": {},
   "outputs": [
    {
     "name": "stdout",
     "output_type": "stream",
     "text": [
      "<class 'pandas.core.frame.DataFrame'>\n",
      "RangeIndex: 88125 entries, 0 to 88124\n",
      "Data columns (total 12 columns):\n",
      " #   Column          Non-Null Count  Dtype         \n",
      "---  ------          --------------  -----         \n",
      " 0   summary         88095 non-null  object        \n",
      " 1   city            87888 non-null  object        \n",
      " 2   state           82890 non-null  object        \n",
      " 3   date_time       86938 non-null  datetime64[ns]\n",
      " 4   shape           85627 non-null  object        \n",
      " 5   duration        84951 non-null  object        \n",
      " 6   stats           88088 non-null  object        \n",
      " 7   report_link     88125 non-null  object        \n",
      " 8   text            88070 non-null  object        \n",
      " 9   posted          86938 non-null  object        \n",
      " 10  city_latitude   72013 non-null  float64       \n",
      " 11  city_longitude  72013 non-null  float64       \n",
      "dtypes: datetime64[ns](1), float64(2), object(9)\n",
      "memory usage: 8.1+ MB\n"
     ]
    }
   ],
   "source": [
    "ufo.info()"
   ]
  },
  {
   "cell_type": "code",
   "execution_count": 21,
   "id": "a0e2b21d",
   "metadata": {},
   "outputs": [
    {
     "data": {
      "text/plain": [
       "<Axes: xlabel='date_time'>"
      ]
     },
     "execution_count": 21,
     "metadata": {},
     "output_type": "execute_result"
    },
    {
     "data": {
      "image/png": "[encoded data removed]",
      "text/plain": [
       "<Figure size 640x480 with 1 Axes>"
      ]
     },
     "metadata": {},
     "output_type": "display_data"
    }
   ],
   "source": [
    "ufo['date_time'].dt.hour.value_counts().sort_index().plot()"
   ]
  },
  {
   "cell_type": "code",
   "execution_count": 31,
   "id": "b96ec457",
   "metadata": {},
   "outputs": [
    {
     "data": {
      "text/plain": [
       "<Axes: xlabel='date_time'>"
      ]
     },
     "execution_count": 31,
     "metadata": {},
     "output_type": "execute_result"
    },
    {
     "data": {
      "image/png": "[encoded data removed]",
      "text/plain": [
       "<Figure size 640x480 with 1 Axes>"
      ]
     },
     "metadata": {},
     "output_type": "display_data"
    }
   ],
   "source": [
    "ufo['date_time'].dt.month.value_counts().sort_index().plot(kind='bar')"
   ]
  },
  {
   "cell_type": "code",
   "execution_count": 32,
   "id": "5a6132c7",
   "metadata": {},
   "outputs": [],
   "source": [
    "sightings = ufo['date_time'].dt.month.value_counts().sort_index()"
   ]
  },
  {
   "cell_type": "code",
   "execution_count": 34,
   "id": "c845c244",
   "metadata": {},
   "outputs": [],
   "source": [
    "month = {1:'Jan', 2:'Feb', 3:'Mar', 4:'Apr', 5:'May', 6:'Jun', 7:'Jul', 8:'Aug', 9:'Sep', 10:'Oct', 11:'Nov', 12:'Dec'}\n",
    "sightings.rename(month, inplace=True)"
   ]
  },
  {
   "cell_type": "code",
   "execution_count": 35,
   "id": "988acaa6",
   "metadata": {},
   "outputs": [
    {
     "data": {
      "text/plain": [
       "Index(['Jan', 'Feb', 'Mar', 'Apr', 'May', 'Jun', 'Jul', 'Aug', 'Sep', 'Oct',\n",
       "       'Nov', 'Dec'],\n",
       "      dtype='object', name='date_time')"
      ]
     },
     "execution_count": 35,
     "metadata": {},
     "output_type": "execute_result"
    }
   ],
   "source": [
    "sightings.index"
   ]
  },
  {
   "cell_type": "code",
   "execution_count": 37,
   "id": "1cc66245",
   "metadata": {},
   "outputs": [
    {
     "data": {
      "text/plain": [
       "<Axes: xlabel='date_time'>"
      ]
     },
     "execution_count": 37,
     "metadata": {},
     "output_type": "execute_result"
    },
    {
     "data": {
      "image/png": "[encoded data removed]",
      "text/plain": [
       "<Figure size 640x480 with 1 Axes>"
      ]
     },
     "metadata": {},
     "output_type": "display_data"
    }
   ],
   "source": [
    "sightings.plot(kind='bar')"
   ]
  },
  {
   "cell_type": "code",
   "execution_count": null,
   "id": "50dcdf2d",
   "metadata": {},
   "outputs": [],
   "source": []
  }
 ],
 "metadata": {
  "kernelspec": {
   "display_name": "venv",
   "language": "python",
   "name": "python3"
  },
  "language_info": {
   "codemirror_mode": {
    "name": "ipython",
    "version": 3
   },
   "file_extension": ".py",
   "mimetype": "text/x-python",
   "name": "python",
   "nbconvert_exporter": "python",
   "pygments_lexer": "ipython3",
   "version": "3.12.9"
  }
 },
 "nbformat": 4,
 "nbformat_minor": 5
}
